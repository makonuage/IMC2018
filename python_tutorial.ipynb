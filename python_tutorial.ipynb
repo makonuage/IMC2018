{
 "cells": [
  {
   "cell_type": "markdown",
   "metadata": {
    "slideshow": {
     "slide_type": "slide"
    }
   },
   "source": [
    "<br />\n",
    "<br />\n",
    "<br />\n",
    "<br />\n",
    "# 輪講について (2018年度)\n",
    "<br />\n",
    "<br />\n",
    "<br />\n",
    "<br />"
   ]
  },
  {
   "cell_type": "markdown",
   "metadata": {
    "slideshow": {
     "slide_type": "slide"
    }
   },
   "source": [
    "# 輪講とは\n",
    "\n",
    "輪講 (りんこう) とは、数人から数十人のグループで論文または書籍の内容を互いに発表し合うこと。\n",
    "\n",
    "抄読会、ジャーナルクラブ (journal club) などともいう。大学のゼミでよく行われる。(wiki調べ)"
   ]
  },
  {
   "cell_type": "markdown",
   "metadata": {
    "slideshow": {
     "slide_type": "slide"
    }
   },
   "source": [
    "# 輪講の進め方1\n",
    "\n",
    "(1) 発表者が黒板の前に立って輪講スタート\n",
    "\n",
    "(2) 前回の内容を口頭で簡潔に述べる\n",
    "\n",
    "(3) 今回の内容を口頭で簡潔に述べる\n",
    "\n",
    "(参考:http://www.comp.tmu.ac.jp/pseudoholomorphic/how_to_seminar.html \n",
    "'セミナーの進め方について',赤穂まなぶ,首都大学東京)"
   ]
  },
  {
   "cell_type": "markdown",
   "metadata": {
    "slideshow": {
     "slide_type": "slide"
    }
   },
   "source": [
    "# 輪講の進め方2\n",
    "(4) 本題スタート(本文の翻訳・解説)\n",
    "- 本文(英語)を読み,一文ずつ翻訳,要所要所に解説を入れる.(大学の講義のイメージ)\n",
    "- **<u>本文を音読するだけになるのは避けてください</u>**\n",
    "\n",
    "(5) 本題を終えたら今回の内容を簡潔にまとめる\n",
    "\n",
    "(6) 質問対応\n",
    "\n",
    "(参考:http://www.comp.tmu.ac.jp/pseudoholomorphic/how_to_seminar.html 'セミナーの進め方について',赤穂まなぶ,首都大学東京)"
   ]
  },
  {
   "cell_type": "markdown",
   "metadata": {
    "slideshow": {
     "slide_type": "slide"
    }
   },
   "source": [
    "# 輪講の準備\n",
    "\n",
    "- まず自分の担当箇所を和訳,内容を他の人に説明できるように読み込む(わかるところまでで構わない)\n",
    "    \n",
    "- 担当の先輩に担当箇所の和訳を渡し,確認等を行なう.\n",
    "\n",
    "\n",
    "ざっくりと以上です.\n",
    "\n",
    "輪講は週に1回90分(授業1コマ分)行います.\n",
    "\n",
    "1回につき大体3人発表することになるので他の人の発表を聞きつつ自分の担当箇所を進めてください.\n"
   ]
  },
  {
   "cell_type": "markdown",
   "metadata": {
    "slideshow": {
     "slide_type": "slide"
    }
   },
   "source": [
    "先輩も人間なので発表前日とかに確認してくれとか言われたら泣きます(多分)\n",
    "\n",
    "自分の発表日に対して多少ゆとりをもって先輩に和訳を提出してください.喜びます(多分)"
   ]
  }
 ],
 "metadata": {
  "celltoolbar": "Slideshow",
  "kernelspec": {
   "display_name": "Python 3",
   "language": "python",
   "name": "python3"
  },
  "language_info": {
   "codemirror_mode": {
    "name": "ipython",
    "version": 3
   },
   "file_extension": ".py",
   "mimetype": "text/x-python",
   "name": "python",
   "nbconvert_exporter": "python",
   "pygments_lexer": "ipython3",
   "version": "3.6.0"
  }
 },
 "nbformat": 4,
 "nbformat_minor": 2
}
